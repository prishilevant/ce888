{
  "nbformat": 4,
  "nbformat_minor": 0,
  "metadata": {
    "colab": {
      "name": "bootstrap.ipynb",
      "provenance": [],
      "include_colab_link": true
    },
    "kernelspec": {
      "display_name": "Python 3",
      "language": "python",
      "name": "python3"
    },
    "language_info": {
      "codemirror_mode": {
        "name": "ipython",
        "version": 3
      },
      "file_extension": ".py",
      "mimetype": "text/x-python",
      "name": "python",
      "nbconvert_exporter": "python",
      "pygments_lexer": "ipython3",
      "version": "3.7.6"
    },
    "pycharm": {
      "stem_cell": {
        "cell_type": "raw",
        "metadata": {
          "collapsed": false
        },
        "source": []
      }
    }
  },
  "cells": [
    {
      "cell_type": "markdown",
      "metadata": {
        "id": "view-in-github",
        "colab_type": "text"
      },
      "source": [
        "<a href=\"https://colab.research.google.com/github/prishilevant/ce888/blob/main/lab2%20-%20bootstrap/bootstrap.ipynb\" target=\"_parent\"><img src=\"https://colab.research.google.com/assets/colab-badge.svg\" alt=\"Open In Colab\"/></a>"
      ]
    },
    {
      "cell_type": "markdown",
      "metadata": {
        "id": "nCi_99yMYIb1"
      },
      "source": [
        "In this notebook you'll create your own bootstrap function following the bootstrap algorithm (check the lecture notes!)"
      ]
    },
    {
      "cell_type": "code",
      "metadata": {
        "id": "LY5zujI2YC37",
        "pycharm": {
          "name": "#%%# Imports\n"
        }
      },
      "source": [
        "import matplotlib\n",
        "import pandas as pd\n",
        "import seaborn as sns\n",
        "import numpy as np\n",
        "\n"
      ],
      "execution_count": 2,
      "outputs": []
    },
    {
      "cell_type": "code",
      "metadata": {
        "id": "Eqkwj4SMY38t"
      },
      "source": [
        "# Load the data\n",
        "df = pd.read_csv('https://raw.githubusercontent.com/albanda/CE888/master/lab2%20-%20bootstrap/customers.csv')\n",
        "data = df.values.T[1]"
      ],
      "execution_count": 3,
      "outputs": []
    },
    {
      "cell_type": "code",
      "metadata": {
        "id": "Gxvc_bScYC4H",
        "pycharm": {
          "name": "#%%\n"
        }
      },
      "source": [
        "# Checking the notes from the lecture, create here your own bootstrap function:\n",
        "# 1. Sample from the input array x to create an array of samples of shape (n_bootstraps, sample_size)\n",
        "# Hint: Check the function random.choice() on Numpy\n",
        "# 2. Calculate and save the mean of the array (this is \"data_mean\" that is returned by the function)\n",
        "# 3. Calculate the mean from each bootstrap (i.e., row) and store it.\n",
        "# (This should be an array of n_bootstraps values)\n",
        "# 4. Calculate the lower and upper bounds for a 95% CI (hint: check the percentile function on Numpy)\n",
        "# 5. Return data_mean, and the lower and upper bounds of your interval\n",
        "def bootstrap_mean(x, sample_size, n_bootstraps):\n",
        "\tdata_array = np.random.choice(x,size=(n_bootstraps, sample_size))\n",
        "\tdata_array_mean = data_array.mean(axis=1)\n",
        "\tdata_array_sort = np.sort(data_array_mean)\n",
        "\tdata_mean = np.mean(data_array_sort)\n",
        "\tlower = np.percentile(data_array_sort, 2.5)\n",
        "\tupper = np.percentile(data_array_sort, 97.5)\n",
        "\treturn data_mean, lower, upper\n"
      ],
      "execution_count": 4,
      "outputs": []
    },
    {
      "cell_type": "code",
      "metadata": {
        "id": "AN7sEOcMYC4P",
        "pycharm": {
          "name": "#%%\n"
        },
        "colab": {
          "base_uri": "https://localhost:8080/",
          "height": 441
        },
        "outputId": "a9350217-af53-4483-a235-737b734daf68"
      },
      "source": [
        "# Call your bootstrap function and plot the results\n",
        "\n",
        "boots = []\n",
        "for i in range(100, 50000, 1000):\n",
        "    boot = bootstrap_mean(data, data.shape[0], i)\n",
        "    boots.append([i, boot[0], \"mean\"])\n",
        "    boots.append([i, boot[1], \"lower\"])\n",
        "    boots.append([i, boot[2], \"upper\"])\n",
        "\n",
        "df_boot = pd.DataFrame(boots, columns=['Bootstrap Iterations', 'Mean', \"Value\"])\n",
        "sns_plot = sns.lmplot(df_boot.columns[0], df_boot.columns[1], data=df_boot, fit_reg=False, hue=\"Value\")\n",
        "\n",
        "sns_plot.axes[0, 0].set_ylim(0,)\n",
        "sns_plot.axes[0, 0].set_xlim(0, 50000)\n"
      ],
      "execution_count": 5,
      "outputs": [
        {
          "output_type": "stream",
          "name": "stderr",
          "text": [
            "/usr/local/lib/python3.7/dist-packages/seaborn/_decorators.py:43: FutureWarning: Pass the following variables as keyword args: x, y. From version 0.12, the only valid positional argument will be `data`, and passing other arguments without an explicit keyword will result in an error or misinterpretation.\n",
            "  FutureWarning\n"
          ]
        },
        {
          "output_type": "execute_result",
          "data": {
            "text/plain": [
              "(0.0, 50000.0)"
            ]
          },
          "metadata": {},
          "execution_count": 5
        },
        {
          "output_type": "display_data",
          "data": {
            "image/png": "[encoded data removed]",
            "text/plain": [
              "<Figure size 425.125x360 with 1 Axes>"
            ]
          },
          "metadata": {
            "needs_background": "light"
          }
        }
      ]
    },
    {
      "cell_type": "markdown",
      "metadata": {
        "id": "MjtP4e2_YC4V"
      },
      "source": [
        "\n",
        "Now, modify the bootstrap function you created above so that you can pass your desired confidence interval as a parameter.\n",
        "\n"
      ]
    },
    {
      "cell_type": "code",
      "metadata": {
        "id": "3K9j0FuGYhHs"
      },
      "source": [
        "def bootstrap_mean_ci(sample, sample_size, n_bootstraps, ci):\n",
        "\tdata_array = np.random.choice(sample,size=(n_bootstraps, sample_size))\n",
        "\tdata_array_mean = np.nanmean(data_array, axis=1)\n",
        "\tdata_array_sort = np.sort(data_array_mean)\n",
        "\tdata_mean = np.mean(data_array_sort)\n",
        "\tlower_bound_int = (100-ci)/2\n",
        "\tupper_bound_int = 100-lower_bound_int\n",
        "\tlower = np.percentile(data_array_sort, lower_bound_int)\n",
        "\tupper = np.percentile(data_array_sort, upper_bound_int)\n",
        "\treturn data_mean, lower, upper"
      ],
      "execution_count": 6,
      "outputs": []
    },
    {
      "cell_type": "code",
      "source": [
        "def bootstrap_sd_ci(sample, sample_size, n_bootstraps, ci):\n",
        "\tdata_array = np.random.choice(sample,size=(n_bootstraps, sample_size))\n",
        "\tdata_array_std = np.std(data_array, axis=1)\n",
        "\tdata_array_sort = np.sort(data_array_std)\n",
        "\tdata_std = np.std(data_array_sort)\n",
        "\tlower_bound_int = (100-ci)/2\n",
        "\tupper_bound_int = 100-lower_bound_int\n",
        "\tlower = np.percentile(data_array_sort, lower_bound_int)\n",
        "\tupper = np.percentile(data_array_sort, upper_bound_int)\n",
        "\t# print(data_array,data_array_std,data_array_sort,data_std)\n",
        "\treturn data_std, lower, upper\n"
      ],
      "metadata": {
        "id": "BQlQzSLTKn6C"
      },
      "execution_count": 7,
      "outputs": []
    },
    {
      "cell_type": "code",
      "metadata": {
        "id": "uDnjq08GYl-C",
        "colab": {
          "base_uri": "https://localhost:8080/",
          "height": 441
        },
        "outputId": "70fffc0e-4dd0-48da-d4e9-d3efc41a6717"
      },
      "source": [
        "boots = []\n",
        "for i in range(100, 50000, 1000):\n",
        "    boot = bootstrap_mean_ci(data, data.shape[0], i, 80)\n",
        "    boots.append([i, boot[0], \"mean\"])\n",
        "    boots.append([i, boot[1], \"lower\"])\n",
        "    boots.append([i, boot[2], \"upper\"])\n",
        "\n",
        "df_boot = pd.DataFrame(boots, columns=['Boostrap Iterations', 'Mean', \"Value\"])\n",
        "sns_plot = sns.lmplot(df_boot.columns[0], df_boot.columns[1], data=df_boot, fit_reg=False, hue=\"Value\")\n",
        "\n",
        "sns_plot.axes[0, 0].set_ylim(0,)\n",
        "sns_plot.axes[0, 0].set_xlim(0, 50000)\n",
        "\n",
        "#sns_plot.savefig(\"bootstrap_confidence_80.pdf\", bbox_inches='tight')\n"
      ],
      "execution_count": 8,
      "outputs": [
        {
          "output_type": "stream",
          "name": "stderr",
          "text": [
            "/usr/local/lib/python3.7/dist-packages/seaborn/_decorators.py:43: FutureWarning: Pass the following variables as keyword args: x, y. From version 0.12, the only valid positional argument will be `data`, and passing other arguments without an explicit keyword will result in an error or misinterpretation.\n",
            "  FutureWarning\n"
          ]
        },
        {
          "output_type": "execute_result",
          "data": {
            "text/plain": [
              "(0.0, 50000.0)"
            ]
          },
          "metadata": {},
          "execution_count": 8
        },
        {
          "output_type": "display_data",
          "data": {
            "image/png": "[encoded data removed]",
            "text/plain": [
              "<Figure size 425.125x360 with 1 Axes>"
            ]
          },
          "metadata": {
            "needs_background": "light"
          }
        }
      ]
    },
    {
      "cell_type": "markdown",
      "metadata": {
        "id": "qjNgXW6wdd7r"
      },
      "source": [
        "# Vehicles dataset\n",
        "\n",
        "Now let's work on a different dataset, which is stored in the vehicles.csv file.\n"
      ]
    },
    {
      "cell_type": "code",
      "metadata": {
        "id": "avWv4ipFdpka",
        "colab": {
          "base_uri": "https://localhost:8080/",
          "height": 828
        },
        "outputId": "ca03ea92-93da-4db0-c2cb-23ec85a1a2b1"
      },
      "source": [
        "# Load and visualise the vehicles dataset\n",
        "# To load the dataset: https://neptune.ai/blog/google-colab-dealing-with-files (check section \"Load individual files directly from GitHub\")\n",
        "\n",
        "\n",
        "# Note that the current and new fleets are in different columns and have different lengths, so bear this in mind when you're plotting.\n",
        "# You can create separate scatterplots for the two fleets, as you would with the histograms, \n",
        "# or plot them both in one plot (but not one against the other).\n",
        "vehicle_dataset = pd.read_csv('https://raw.githubusercontent.com/albanda/CE888/master/lab2%20-%20bootstrap/vehicles.csv')\n",
        "vehicle_dataset.insert(0, 'Some Task', range(1, 1 + len(vehicle_dataset)))\n",
        "sns.lmplot(vehicle_dataset.columns[0], vehicle_dataset.columns[1], data=vehicle_dataset, fit_reg=False)\n",
        "sns.lmplot(vehicle_dataset.columns[0], vehicle_dataset.columns[2], data=vehicle_dataset, fit_reg=False)\n",
        "# Note: you can add more cells as needed to organise your code and your plots\n"
      ],
      "execution_count": 9,
      "outputs": [
        {
          "output_type": "stream",
          "name": "stderr",
          "text": [
            "/usr/local/lib/python3.7/dist-packages/seaborn/_decorators.py:43: FutureWarning: Pass the following variables as keyword args: x, y. From version 0.12, the only valid positional argument will be `data`, and passing other arguments without an explicit keyword will result in an error or misinterpretation.\n",
            "  FutureWarning\n",
            "/usr/local/lib/python3.7/dist-packages/seaborn/_decorators.py:43: FutureWarning: Pass the following variables as keyword args: x, y. From version 0.12, the only valid positional argument will be `data`, and passing other arguments without an explicit keyword will result in an error or misinterpretation.\n",
            "  FutureWarning\n"
          ]
        },
        {
          "output_type": "execute_result",
          "data": {
            "text/plain": [
              "<seaborn.axisgrid.FacetGrid at 0x7f07fef27510>"
            ]
          },
          "metadata": {},
          "execution_count": 9
        },
        {
          "output_type": "display_data",
          "data": {
            "image/png": "[encoded data removed]",
            "text/plain": [
              "<Figure size 360x360 with 1 Axes>"
            ]
          },
          "metadata": {
            "needs_background": "light"
          }
        },
        {
          "output_type": "display_data",
          "data": {
            "image/png": "[encoded data removed]",
            "text/plain": [
              "<Figure size 360x360 with 1 Axes>"
            ]
          },
          "metadata": {
            "needs_background": "light"
          }
        }
      ]
    },
    {
      "cell_type": "markdown",
      "metadata": {
        "id": "B5d0tXDpIEj8"
      },
      "source": [
        "## Compare the two fleets\n",
        "\n",
        "The business analysts come up a comparison algorithm that requires the upper and lower bounds for the mean in order to say which fleet is better.\n",
        "1. Calculate the mean of both samples.\n",
        "2. Using the bootstrap function that you created:\n",
        "    - Construct the 95% CI of the mean of the current fleet.\n",
        "    - Construct the 95% CI of the mean of the new fleet.\n",
        "    - Are they comparable? (i.e., is one better than the other?) -- you can do this with a permutation test (check the lecture notes!)"
      ]
    },
    {
      "cell_type": "code",
      "metadata": {
        "id": "po4mp6zRHC0m",
        "colab": {
          "base_uri": "https://localhost:8080/"
        },
        "outputId": "efe5c716-f445-4a06-db2f-8c6fff5ae26f"
      },
      "source": [
        "# <---INSERT YOUR CODE HERE--->\n",
        "vehical_data_mean = vehicle_dataset.mean(axis = 0, skipna = True)\n",
        "print('vehical_data_mean ' + str(vehical_data_mean))\n",
        "old_fleet_sample = vehicle_dataset.iloc[:,1]\n",
        "data_mean_curr, lower_curr, upper_curr = bootstrap_mean_ci(old_fleet_sample, 10, 10000, 95)\n",
        "print(data_mean_curr, lower_curr, upper_curr)\n",
        "\n",
        "print('new sample')\n",
        "vehicle_new_fleet = vehicle_dataset.iloc[:,2].dropna()\n",
        "data_mean_new, lower_new, upper_new = bootstrap_mean_ci(vehicle_new_fleet, 10, 10000, 60)\n",
        "print(data_mean_new, lower_new, upper_new)\n",
        "\n",
        "print('std')\n",
        "data_std_new, lower_new, upper_new = bootstrap_sd_ci(vehicle_dataset.iloc[:,1], 10, 10000, 95)\n",
        "print(data_std_new, lower_new, upper_new)\n"
      ],
      "execution_count": 10,
      "outputs": [
        {
          "output_type": "stream",
          "name": "stdout",
          "text": [
            "vehical_data_mean Some Task        125.000000\n",
            "Current fleet     20.144578\n",
            "New Fleet         30.481013\n",
            "dtype: float64\n",
            "20.154510000000002 16.6 24.4\n",
            "new sample\n",
            "30.475559999999998 28.8 32.1\n",
            "std\n",
            "1.4709514408334157 3.0149626863362675 8.63770802933278\n"
          ]
        }
      ]
    },
    {
      "cell_type": "code",
      "metadata": {
        "id": "MkxvDZG4HC0n"
      },
      "source": [
        "# Create your own function for a permutation test here (you will need it for the lab quiz!):\n",
        "def permut_test(sample1, sample2, n_permutations):\n",
        "    \"\"\"\n",
        "    sample1: 1D array\n",
        "    sample2: 1D array (note that the size of the two arrays can be different)\n",
        "    n_permutations: number of permutations to calculate the p-value\n",
        "    \"\"\"\n",
        "    tobs = np.mean(sample2)-np.mean(sample1)\n",
        "\n",
        "    concat = np.concatenate((sample1, sample2))\n",
        "    count=0    \n",
        "    for i in range(n_permutations):\n",
        "        perm = np.random.permutation(concat)\n",
        "        pold = perm[:int(len(perm)/2)]\n",
        "        pnew = perm[int(len(perm)/2):]\n",
        "        tperm = np.mean(pnew)-np.mean(pold)\n",
        "        if tperm>tobs:\n",
        "            count+=1\n",
        "    pvalue = count/n_permutations\n",
        "    return pvalue, tperm, tobs"
      ],
      "execution_count": 11,
      "outputs": []
    },
    {
      "cell_type": "code",
      "source": [
        "current_old_data = old_fleet_sample\n",
        "new_data = vehicle_new_fleet\n",
        "\n",
        "# sample1 = [0,0,0,1,1,1,1,1,0,0,0]\n",
        "# sample2 = [1,1,1,1,1,1,1,1,1,0,0,0,0,1,0,1,0]\n",
        "\n",
        "pvalue = permut_test(current_old_data, new_data, 30000)\n",
        "print(pvalue)"
      ],
      "metadata": {
        "id": "p_z2MQSTNtM8",
        "outputId": "f2e5ce8d-47ad-4ba7-b3ec-795a08150aae",
        "colab": {
          "base_uri": "https://localhost:8080/"
        }
      },
      "execution_count": 12,
      "outputs": [
        {
          "output_type": "stream",
          "name": "stdout",
          "text": [
            "(0.0, 0.7439024390243922, 10.336434344974837)\n"
          ]
        }
      ]
    },
    {
      "cell_type": "markdown",
      "source": [
        "Voting"
      ],
      "metadata": {
        "id": "8UsKlMe3OWux"
      }
    },
    {
      "cell_type": "code",
      "source": [
        "dem_share_PA = [60.08, 40.64, 36.07, 41.21, 31.04, 43.78, 44.08, 46.85, 44.71, 46.15, 63.10, 52.20, 43.18, 40.24, 39.92, 47.87, 37.77, 40.11, 49.85, 48.61, 38.62, 54.25, 34.84, 47.75, 43.82, 55.97, 58.23, 42.97, 42.38, 36.11, 37.53, 42.65, 50.96, 47.43, 56.24, 45.60, 46.39, 35.22, 48.56, 32.97, 57.88, 36.05, 37.72, 50.36, 32.12, 41.55, 54.66, 57.81, 54.58, 32.88, 54.37, 40.45, 47.61, 60.49, 43.11, 27.32, 44.03, 33.56, 37.26, 54.64, 43.12, 25.34, 49.79, 83.56, 40.09, 60.81, 49.81]\n",
        "dem_share_OH = [56.94, 50.46, 65.99, 45.88, 42.23, 45.26, 57.01, 53.61, 59.10, 61.48, 43.43, 44.69, 54.59, 48.36, 45.89, 48.62, 43.92, 38.23, 28.79, 63.57, 38.07, 40.18, 43.05, 41.56, 42.49, 36.06, 52.76, 46.07, 39.43, 39.26, 47.47, 27.92, 38.01, 45.45, 29.07, 28.94, 51.28, 50.10, 39.84, 36.43, 35.71, 31.47, 47.01, 40.10, 48.76, 31.56, 39.86, 45.31, 35.47, 51.38, 46.33, 48.73, 41.77, 41.32, 48.46, 53.14, 34.01, 54.74, 40.67, 38.96, 46.29, 38.25, 6.80, 31.75, 46.33, 44.90, 33.57, 38.10, 39.67, 40.47, 49.44, 37.62, 36.71, 46.73, 42.20, 53.16, 52.40, 58.36, 68.02, 38.53, 34.58, 69.64, 60.50, 53.53, 36.54, 49.58, 41.97, 38.11]\n",
        "\n",
        "print(len(dem_share_PA))\n",
        "print(len(dem_share_OH))\n",
        "\n",
        "data_mean_new, lower_new, upper_new = bootstrap_mean_ci(dem_share_OH, 15, 25000, 95)\n",
        "print(data_mean_new, lower_new, upper_new)\n",
        "\n",
        "data_mean_new, lower_new, upper_new = bootstrap_mean_ci(dem_share_PA, 15, 25000, 95)\n",
        "print(data_mean_new, lower_new, upper_new)\n",
        "\n",
        "pvalue = permut_test(dem_share_PA, dem_share_OH, 20000)\n",
        "print(pvalue)"
      ],
      "metadata": {
        "id": "V5kG9gZsOSkG",
        "outputId": "120adebd-b316-45da-d188-168c35b28388",
        "colab": {
          "base_uri": "https://localhost:8080/"
        }
      },
      "execution_count": 27,
      "outputs": [
        {
          "output_type": "stream",
          "name": "stdout",
          "text": [
            "67\n",
            "88\n",
            "44.31105 39.371983333333326 49.337349999999994\n",
            "45.45131029333334 40.793933333333335 50.52536666666667\n",
            "(0.7696, -0.6722710622710579, -1.1582360922659447)\n"
          ]
        }
      ]
    },
    {
      "cell_type": "markdown",
      "source": [
        "Quiz Solving"
      ],
      "metadata": {
        "id": "CW_B1yy2PLKU"
      }
    },
    {
      "cell_type": "markdown",
      "source": [
        "The 95% confidence interval for the mean of the customers dataset using 10000 iterations is (Answer\n",
        ", Answer\n",
        "). Give your answer including the first two decimal points (e.g., 1.23)."
      ],
      "metadata": {
        "id": "R0vtUy1q9Gyk"
      }
    },
    {
      "cell_type": "code",
      "source": [
        "bootstrap_mean_ci(data,data.shape[0],10000,95)"
      ],
      "metadata": {
        "colab": {
          "base_uri": "https://localhost:8080/"
        },
        "id": "_fkpBrsV9H8s",
        "outputId": "f0bcbf63-57d5-4359-db2b-91f20f4c36b3"
      },
      "execution_count": 22,
      "outputs": [
        {
          "output_type": "execute_result",
          "data": {
            "text/plain": [
              "(9.2223, 6.428571428571429, 12.428571428571429)"
            ]
          },
          "metadata": {},
          "execution_count": 22
        }
      ]
    },
    {
      "cell_type": "markdown",
      "source": [
        "The 60% confidence interval for the mean of the new fleet in the vehicles dataset using 10000 iterations is (Answer\n",
        ", Answer\n",
        "). Give your answer including the first two decimal points (e.g., 1.23)."
      ],
      "metadata": {
        "id": "NF-kgQdb-00q"
      }
    },
    {
      "cell_type": "code",
      "source": [
        "bootstrap_mean_ci(vehicle_new_fleet,vehicle_new_fleet.shape[0],10000,60)"
      ],
      "metadata": {
        "id": "tzr4v0Ghlko7",
        "outputId": "2041cc71-6813-4356-b28a-08917e0e248a",
        "colab": {
          "base_uri": "https://localhost:8080/"
        }
      },
      "execution_count": 23,
      "outputs": [
        {
          "output_type": "execute_result",
          "data": {
            "text/plain": [
              "(30.487610126582275, 29.911392405063292, 31.075949367088608)"
            ]
          },
          "metadata": {},
          "execution_count": 23
        }
      ]
    },
    {
      "cell_type": "markdown",
      "source": [
        "The 99% confidence interval for the standard deviation of the new fleet in the vehicles dataset using 10000 iterations is (Answer\n",
        ", Answer\n",
        "). Give your answer including the first two decimal points (e.g., 1.23)."
      ],
      "metadata": {
        "id": "TCy47t76_FZt"
      }
    },
    {
      "cell_type": "code",
      "source": [
        "bootstrap_sd_ci(vehicle_new_fleet,vehicle_new_fleet.shape[0],10000,99)"
      ],
      "metadata": {
        "id": "nAs5J452oWqU",
        "outputId": "2c35bf95-a2ea-4be0-8735-8f756286f29f",
        "colab": {
          "base_uri": "https://localhost:8080/"
        }
      },
      "execution_count": 24,
      "outputs": [
        {
          "output_type": "execute_result",
          "data": {
            "text/plain": [
              "(0.448716455877548, 4.89833919776663, 7.195456912797103)"
            ]
          },
          "metadata": {},
          "execution_count": 24
        }
      ]
    },
    {
      "cell_type": "markdown",
      "source": [
        "The 73% confidence interval for the standard deviation of the new fleet in the vehicles dataset using 10000 iterations is (Answer\n",
        ", Answer\n",
        "). Give your answer including the first two decimal points (e.g., 1.23)."
      ],
      "metadata": {
        "id": "g9QeN_26_Str"
      }
    },
    {
      "cell_type": "code",
      "source": [
        "bootstrap_sd_ci(bootstrap_sd_ci(vehicle_new_fleet,vehicle_new_fleet.shape[0],10000,99)\n",
        ",old_fleet_sample.shape[0],10000,95)"
      ],
      "metadata": {
        "id": "1Axn7oOvon9g",
        "outputId": "8ab4bf1e-8a45-4a86-85cc-1776dfd05c30",
        "colab": {
          "base_uri": "https://localhost:8080/"
        }
      },
      "execution_count": 25,
      "outputs": [
        {
          "output_type": "execute_result",
          "data": {
            "text/plain": [
              "(0.06331116988617823, 2.6510637324208854, 2.898334224771495)"
            ]
          },
          "metadata": {},
          "execution_count": 25
        }
      ]
    },
    {
      "cell_type": "markdown",
      "source": [
        "Using the data from the vehicles.csv file:\n",
        "\n",
        "We want to know whether the new fleet is better than the old one (i.e., if the difference in the means is positive).\n",
        "The Null hypothesis is:"
      ],
      "metadata": {
        "id": "m8wPDVfiBCPx"
      }
    },
    {
      "cell_type": "code",
      "source": [
        "permut_test(current_old_data, new_data, 30000)"
      ],
      "metadata": {
        "id": "-N91EbovuW7M",
        "outputId": "af56fdf4-5648-428d-b4e4-3849a6b9b6da",
        "colab": {
          "base_uri": "https://localhost:8080/"
        }
      },
      "execution_count": 26,
      "outputs": [
        {
          "output_type": "execute_result",
          "data": {
            "text/plain": [
              "(0.0, 0.5243902439024382, 10.336434344974837)"
            ]
          },
          "metadata": {},
          "execution_count": 26
        }
      ]
    },
    {
      "cell_type": "markdown",
      "source": [
        "The data for this question is in voting_data.py.\n",
        "\n",
        "The file contains data for the 2008 US presidential election results from the “swing states” of PA and OH, specifically, the percentage of voters who voted for the Democrats within each county in a given state. There are Answer\n",
        "67\n",
        " values (i.e., states) in PA and Answer\n",
        "88\n",
        " in OH.\n",
        "\n",
        "We want to know whether voters in PA were more likely than voters in OH to support the Democratic candidate.\n",
        "\n",
        "The Null hypothesis is:\n",
        "\n",
        "There is no difference between the mean votes for PA and OH\n",
        "The mean in PA voting is larger than the mean in OH voting\n",
        ".\n",
        "The alternative hypothesis is\n",
        "\n",
        "The mean in PA voting is larger than the mean in OH voting\n",
        "There is no difference between the mean votes for PA and OH\n",
        ".\n",
        "The 95% confidence intervals for the means of the votes using 20000 bootstraps are (give two decimal values, e.g., 1.23):\n",
        "\n",
        "For OH: (Answer\n",
        "44.31\n",
        ", Answer\n",
        ")\n",
        "\n",
        "For PA: (Answer\n",
        ", Answer\n",
        ")\n",
        "\n",
        "The p-value from a permutation test with 10000 permutations is Answer\n",
        " (give 3 decimal points, e.g., 0.456). Since this value is Answer\n",
        " \n",
        " 0.05 (our significance level), we\n",
        "\n",
        "Reject the null hypothesis\n",
        "Fail to reject the Null hypothesis\n",
        ".\n",
        "If an error had occurred in our inference above, what type of error would it be? \n",
        "\n",
        "Type II error\n",
        "Type I error"
      ],
      "metadata": {
        "id": "kEzHbMRyCjjp"
      }
    },
    {
      "cell_type": "code",
      "source": [
        "bootstrap_mean_ci(dem_share_OH, np.shape(dem_share_OH)[0], 20000, 95)"
      ],
      "metadata": {
        "id": "c83TkTO6C6xg",
        "outputId": "95b819a3-bde1-436f-b631-1625b775660f",
        "colab": {
          "base_uri": "https://localhost:8080/"
        }
      },
      "execution_count": 31,
      "outputs": [
        {
          "output_type": "execute_result",
          "data": {
            "text/plain": [
              "(44.32496077272727, 42.25475852272727, 46.36456534090909)"
            ]
          },
          "metadata": {},
          "execution_count": 31
        }
      ]
    },
    {
      "cell_type": "code",
      "source": [
        "bootstrap_mean_ci(dem_share_PA, np.shape(dem_share_PA)[0], 20000, 95)"
      ],
      "metadata": {
        "id": "gEq2u55CDRPP",
        "outputId": "aed5b140-6748-4187-d642-e42eb996966a",
        "colab": {
          "base_uri": "https://localhost:8080/"
        }
      },
      "execution_count": 32,
      "outputs": [
        {
          "output_type": "execute_result",
          "data": {
            "text/plain": [
              "(45.48375111940298, 43.22820149253731, 47.81477985074627)"
            ]
          },
          "metadata": {},
          "execution_count": 32
        }
      ]
    },
    {
      "cell_type": "code",
      "source": [
        "permut_test(dem_share_OH,dem_share_PA, 10000)"
      ],
      "metadata": {
        "id": "kO2Cb-wgD8ju",
        "outputId": "cb3621cc-b482-4a0d-8854-8f5cd88223d3",
        "colab": {
          "base_uri": "https://localhost:8080/"
        }
      },
      "execution_count": 33,
      "outputs": [
        {
          "output_type": "execute_result",
          "data": {
            "text/plain": [
              "(0.2332, -1.8898701298701255, 1.1582360922659447)"
            ]
          },
          "metadata": {},
          "execution_count": 33
        }
      ]
    },
    {
      "cell_type": "code",
      "source": [
        "bootstrap_sd_ci(old_fleet_sample,old_fleet_sample.shape[0],10000,95)"
      ],
      "metadata": {
        "id": "9mYDp1OEKeoe",
        "colab": {
          "base_uri": "https://localhost:8080/"
        },
        "outputId": "4b87ada6-d2c2-4ac0-d237-1dc2c4778dea"
      },
      "execution_count": 19,
      "outputs": [
        {
          "output_type": "execute_result",
          "data": {
            "text/plain": [
              "(0.28815868934243066, 5.794926338344225, 6.937133688099237)"
            ]
          },
          "metadata": {},
          "execution_count": 19
        }
      ]
    }
  ]
}